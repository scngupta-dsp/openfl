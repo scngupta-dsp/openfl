{
 "cells": [
  {
   "cell_type": "markdown",
   "metadata": {},
   "source": [
    "# Quickstart\n",
    "\n",
    "In this guide, we will train a simple Convolutional Neural Network (CNN) on MNIST handwritten digits dataset. We will simulate a Federated Learning experiment between two collaborators, orchestrated by an aggregator, using the TaskRunner CLI interface.\n",
    "\n",
    "OpenFL must be installed for this tutorial. Refer to the [installation guide](https://openfl.readthedocs.io/en/latest/installation.html)."
   ]
  },
  {
   "cell_type": "code",
   "execution_count": null,
   "metadata": {},
   "outputs": [],
   "source": [
    "# Suppress TensorFlow warnings\n",
    "%env TF_CPP_MIN_LOG_LEVEL=3"
   ]
  },
  {
   "cell_type": "markdown",
   "metadata": {},
   "source": [
    "### Create a workspace\n",
    "\n",
    "For brevity, we will reuse an existing workspace."
   ]
  },
  {
   "cell_type": "code",
   "execution_count": null,
   "metadata": {},
   "outputs": [],
   "source": [
    "!fx workspace create --prefix ./mnist_example --template keras_cnn_mnist\n",
    "%cd ./mnist_example"
   ]
  },
  {
   "cell_type": "markdown",
   "metadata": {},
   "source": [
    "### Initialize a Plan\n",
    "\n",
    "This step builds an entire FL experiment plan, along with the initial set of parameters that will be used in the experiment.\n",
    "We supply `localhost` as the aggregator address, for simulation purposes."
   ]
  },
  {
   "cell_type": "code",
   "execution_count": null,
   "metadata": {
    "vscode": {
     "languageId": "shellscript"
    }
   },
   "outputs": [],
   "source": [
    "!fx plan initialize -a localhost"
   ]
  },
  {
   "cell_type": "markdown",
   "metadata": {},
   "source": [
    "### Create a certificate authority (CA)\n",
    "\n",
    "OpenFL supports mTLS, which ensures secure communication between the collaborators and the aggregator. This step generates a certificate authority (CA) that will be used to sign the certificates of the collaborators. The CA is generated only once and can be reused for multiple experiments."
   ]
  },
  {
   "cell_type": "code",
   "execution_count": null,
   "metadata": {
    "vscode": {
     "languageId": "shellscript"
    }
   },
   "outputs": [],
   "source": [
    "!fx workspace certify"
   ]
  },
  {
   "cell_type": "markdown",
   "metadata": {},
   "source": [
    "### Create an aggregator, and its key-pair"
   ]
  },
  {
   "cell_type": "code",
   "execution_count": null,
   "metadata": {
    "vscode": {
     "languageId": "shellscript"
    }
   },
   "outputs": [],
   "source": [
    "!fx aggregator generate-cert-request --fqdn localhost\n",
    "!fx aggregator certify --fqdn localhost --silent"
   ]
  },
  {
   "cell_type": "markdown",
   "metadata": {},
   "source": [
    "### Create collaborators, and their key-pairs\n",
    "\n",
    "We will name our first collaborator `bob`."
   ]
  },
  {
   "cell_type": "code",
   "execution_count": null,
   "metadata": {
    "vscode": {
     "languageId": "shellscript"
    }
   },
   "outputs": [],
   "source": [
    "!fx collaborator create -d 0 -n bob --silent\n",
    "!fx collaborator generate-cert-request -n bob --silent"
   ]
  },
  {
   "cell_type": "markdown",
   "metadata": {},
   "source": [
    "Certify `bob` with the CA.\n",
    "\n",
    "> Note: This is a command that runs on the `aggregator` side. `bob`'s certificate signing request (CSR) is sent to the `aggregator`, which then signs the certificate with the CA. The signed certificate then has to be sent back to `bob`."
   ]
  },
  {
   "cell_type": "code",
   "execution_count": null,
   "metadata": {
    "vscode": {
     "languageId": "shellscript"
    }
   },
   "outputs": [],
   "source": [
    "!fx collaborator certify --request-pkg col_bob_to_agg_cert_request.zip --silent"
   ]
  },
  {
   "cell_type": "markdown",
   "metadata": {},
   "source": [
    "And the second collaborator `charlie`."
   ]
  },
  {
   "cell_type": "code",
   "execution_count": null,
   "metadata": {
    "vscode": {
     "languageId": "shellscript"
    }
   },
   "outputs": [],
   "source": [
    "!fx collaborator create -d 1 -n charlie --silent\n",
    "!fx collaborator generate-cert-request -n charlie --silent"
   ]
  },
  {
   "cell_type": "markdown",
   "metadata": {},
   "source": [
    "Certify `charlie` with the CA.\n",
    "\n",
    "> Note: This is a command that runs on the `aggregator` side. `charlie`'s certificate signing request (CSR) is sent to the `aggregator`, which then signs the certificate with the CA. The signed certificate then has to be sent back to `charlie`."
   ]
  },
  {
   "cell_type": "code",
   "execution_count": null,
   "metadata": {
    "vscode": {
     "languageId": "shellscript"
    }
   },
   "outputs": [],
   "source": [
    "!fx collaborator certify --request-pkg col_charlie_to_agg_cert_request.zip --silent"
   ]
  },
  {
   "cell_type": "markdown",
   "metadata": {},
   "source": [
    "### Import CA signed certificates\n",
    "\n",
    "This step imports the CA-signed certificates of the collaborator and the aggregator into the workspace.\n",
    "\n",
    "> Note: This command runs on respective collaborator sites."
   ]
  },
  {
   "cell_type": "code",
   "execution_count": null,
   "metadata": {
    "vscode": {
     "languageId": "shellscript"
    }
   },
   "outputs": [],
   "source": [
    "!fx collaborator certify --import agg_to_col_bob_signed_cert.zip\n",
    "!fx collaborator certify --import agg_to_col_charlie_signed_cert.zip"
   ]
  },
  {
   "cell_type": "markdown",
   "metadata": {},
   "source": [
    "### Start the simulation\n",
    "\n",
    "This step starts the simulation of the FL experiment. The aggregator will orchestrate the training process between the collaborators."
   ]
  },
  {
   "cell_type": "code",
   "execution_count": null,
   "metadata": {
    "vscode": {
     "languageId": "shellscript"
    }
   },
   "outputs": [],
   "source": [
    "!fx aggregator start & fx collaborator start -n bob & fx collaborator start -n charlie"
   ]
  }
 ],
 "metadata": {
  "kernelspec": {
   "display_name": "venv",
   "language": "python",
   "name": "python3"
  },
  "language_info": {
   "codemirror_mode": {
    "name": "ipython",
    "version": 3
   },
   "file_extension": ".py",
   "mimetype": "text/x-python",
   "name": "python",
   "nbconvert_exporter": "python",
   "pygments_lexer": "ipython3",
   "version": "3.10.12"
  }
 },
 "nbformat": 4,
 "nbformat_minor": 2
}
